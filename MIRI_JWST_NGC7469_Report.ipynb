{
 "cells": [
  {
   "cell_type": "markdown",
   "id": "f362400f",
   "metadata": {},
   "source": [
    "\n",
    "# Identifying Spectral Lines in MIRI JWST Data\n",
    "\n",
    "**Target:** NGC 7469  \n",
    "**Instrument:** JWST / MIRI / IFU  \n",
    "**Author:** Satyapriya Das  \n",
    "**Date:** June 16, 2025\n",
    "\n",
    "---\n",
    "\n",
    "This notebook walks through the analysis pipeline for extracting and interpreting mid-infrared spectra from JWST/MIRI data cubes for the active galaxy NGC 7469.\n",
    "\n",
    "---\n"
   ]
  },
  {
   "cell_type": "markdown",
   "id": "e100ff57",
   "metadata": {},
   "source": [
    "\n",
    "## 1. Object Identification and Background\n",
    "\n",
    "We first gather basic properties of NGC 7469 using NED or Simbad:\n",
    "\n",
    "| Property | Value |\n",
    "|---------|--------|\n",
    "| RA, Dec | 23h 03m 15.6s, +08° 52′ 26″ |\n",
    "| Distance | ~66 Mpc |\n",
    "| Redshift (z) | ~0.0163 |\n",
    "| Category | Seyfert 1 Galaxy (AGN) |\n",
    "\n",
    "The mid-infrared (MIR) regime is crucial for AGN/starburst studies due to its ability to penetrate dust and trace both thermal and ionized features.\n"
   ]
  },
  {
   "cell_type": "markdown",
   "id": "bb7a7d0f",
   "metadata": {},
   "source": [
    "## 2. Load FITS Files and Compute Pixel Scale"
   ]
  },
  {
   "cell_type": "code",
   "execution_count": null,
   "id": "4d25533b",
   "metadata": {},
   "outputs": [],
   "source": [
    "\n",
    "from astropy.io import fits\n",
    "from astropy.cosmology import Planck18 as cosmo\n",
    "import astropy.units as u\n",
    "\n",
    "z = 0.0163\n",
    "filename = \"c1006_channel1.fits\"\n",
    "\n",
    "with fits.open(filename) as hdul:\n",
    "    hdr = hdul['SCI'].header\n",
    "    cdelt1 = abs(hdr['CDELT1']) * 3600  # arcsec/pixel\n",
    "\n",
    "scale = cosmo.kpc_proper_per_arcmin(z).to(u.pc/u.arcsec)\n",
    "pix_scale_pc = cdelt1 * scale\n",
    "\n",
    "print(f\"Pixel scale: {cdelt1:.3f} arcsec/pixel\")\n",
    "print(f\"Pixel scale in parsecs: {pix_scale_pc:.2f}\")\n"
   ]
  },
  {
   "cell_type": "markdown",
   "id": "181f0642",
   "metadata": {},
   "source": [
    "## 3. Extract Spectra from Region Files"
   ]
  },
  {
   "cell_type": "code",
   "execution_count": null,
   "id": "753aa6e2",
   "metadata": {},
   "outputs": [],
   "source": [
    "\n",
    "import numpy as np\n",
    "import pandas as pd\n",
    "from astropy.wcs import WCS\n",
    "from regions import Regions\n",
    "\n",
    "def extract_spectrum_from_region(data_cube, wcs, region_file):\n",
    "    region = Regions.read(region_file, format='ds9')[0]\n",
    "    mask = region.to_mask(mode='center')\n",
    "    extracted_flux = []\n",
    "\n",
    "    for lam in range(data_cube.shape[0]):\n",
    "        flux_slice = data_cube[lam]\n",
    "        cutout = mask.cutout(flux_slice, fill_value=np.nan)\n",
    "        value = np.nanmean(cutout)\n",
    "        extracted_flux.append(value)\n",
    "\n",
    "    return np.array(extracted_flux)\n"
   ]
  },
  {
   "cell_type": "markdown",
   "id": "cc9bb6b2",
   "metadata": {},
   "source": [
    "## 4. Plot Spectra and Overlay Known Emission Lines"
   ]
  },
  {
   "cell_type": "code",
   "execution_count": null,
   "id": "798fdde2",
   "metadata": {},
   "outputs": [],
   "source": [
    "\n",
    "import matplotlib.pyplot as plt\n",
    "\n",
    "df = pd.read_csv(\"c1006_channel1_region1.csv\")\n",
    "wavelengths = df['Wavelength [micron]']\n",
    "flux = df['Flux']\n",
    "\n",
    "lines = {\n",
    "    'PAH 6.2': 6.2,\n",
    "    'PAH 7.7': 7.7,\n",
    "    'PAH 8.6': 8.6,\n",
    "    '[S IV] 10.51': 10.51,\n",
    "    'PAH 11.3': 11.3,\n",
    "    '[Ne II] 12.81': 12.81,\n",
    "    '[Ne V] 14.32': 14.32,\n",
    "    '[Ne III] 15.55': 15.55,\n",
    "    '[S III] 18.71': 18.71,\n",
    "    '[Ne V] 24.31': 24.31,\n",
    "    '[O IV] 25.89': 25.89,\n",
    "    '[S III] 33.48': 33.48\n",
    "}\n",
    "\n",
    "plt.figure(figsize=(10, 6))\n",
    "plt.plot(wavelengths, flux, label='Region 1', color='black')\n",
    "\n",
    "for name, wl in lines.items():\n",
    "    if wavelengths.min() < wl < wavelengths.max():\n",
    "        plt.axvline(x=wl, color='red', linestyle='--', alpha=0.5)\n",
    "        plt.text(wl, max(flux)*0.8, name, rotation=90, fontsize=8, color='red', ha='right')\n",
    "\n",
    "plt.xlabel('Wavelength [μm]')\n",
    "plt.ylabel('Flux')\n",
    "plt.title('Region 1 Spectrum with Emission Lines')\n",
    "plt.grid(True)\n",
    "plt.tight_layout()\n",
    "plt.show()\n"
   ]
  },
  {
   "cell_type": "markdown",
   "id": "dedc5a42",
   "metadata": {},
   "source": [
    "## 5. Compare Spectra Between Regions"
   ]
  },
  {
   "cell_type": "code",
   "execution_count": null,
   "id": "854312e8",
   "metadata": {},
   "outputs": [],
   "source": [
    "\n",
    "df1 = pd.read_csv(\"c1006_channel1_region1.csv\")\n",
    "df2 = pd.read_csv(\"c1006_channel1_region2.csv\")\n",
    "\n",
    "plt.figure(figsize=(10, 6))\n",
    "plt.plot(df1['Wavelength [micron]'], df1['Flux'], label='Region 1 (Core)', color='blue')\n",
    "plt.plot(df2['Wavelength [micron]'], df2['Flux'], label='Region 2 (Ring)', color='green')\n",
    "\n",
    "plt.xlabel(\"Wavelength [μm]\")\n",
    "plt.ylabel(\"Flux\")\n",
    "plt.title(\"Spectral Comparison: Region 1 vs Region 2\")\n",
    "plt.legend()\n",
    "plt.grid(True)\n",
    "plt.tight_layout()\n",
    "plt.show()\n"
   ]
  },
  {
   "cell_type": "markdown",
   "id": "4ae49dbf",
   "metadata": {},
   "source": [
    "## 6. Emission Line Summary Table"
   ]
  },
  {
   "cell_type": "code",
   "execution_count": null,
   "id": "8d261fb6",
   "metadata": {},
   "outputs": [],
   "source": [
    "\n",
    "def detect_flux(df, wavelength, tol=0.1):\n",
    "    mask = (df['Wavelength [micron]'] > wavelength - tol) & (df['Wavelength [micron]'] < wavelength + tol)\n",
    "    if mask.any():\n",
    "        return df['Flux'][mask].max()\n",
    "    else:\n",
    "        return np.nan\n",
    "\n",
    "rows = []\n",
    "for name, wl in lines.items():\n",
    "    f1 = detect_flux(df1, wl)\n",
    "    f2 = detect_flux(df2, wl)\n",
    "    row = {\n",
    "        \"Line\": name,\n",
    "        \"Wavelength (μm)\": wl,\n",
    "        \"Region 1 Flux\": f\"{f1:.2f}\" if not np.isnan(f1) else \"—\",\n",
    "        \"Region 2 Flux\": f\"{f2:.2f}\" if not np.isnan(f2) else \"—\",\n",
    "        \"Stronger In\": \"Region 1\" if f1 > f2 else (\"Region 2\" if f2 > f1 else \"Equal/—\")\n",
    "    }\n",
    "    rows.append(row)\n",
    "\n",
    "line_table = pd.DataFrame(rows)\n",
    "line_table.to_csv(\"emission_line_summary.csv\", index=False)\n",
    "line_table\n"
   ]
  }
 ],
 "metadata": {},
 "nbformat": 4,
 "nbformat_minor": 5
}
