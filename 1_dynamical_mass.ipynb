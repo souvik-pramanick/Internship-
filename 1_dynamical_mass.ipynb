{
 "cells": [
  {
   "cell_type": "markdown",
   "metadata": {},
   "source": [
    "### Step 1: Importing Necessary Libraries\n",
    "We begin by importing Python libraries commonly used in data analysis and visualization:\n",
    "- `numpy` for numerical operations\n",
    "- `matplotlib.pyplot` for plotting graphs\n",
    "- `pandas` (commented out here) for handling CSV data, which is especially useful for tabular data such as redshift catalogs\n",
    "\n",
    "> Tip: If you haven’t used `pandas` before, it’s worth learning as it offers powerful tools to manipulate and analyze structured datasets.\n"
   ]
  },
  {
   "cell_type": "markdown",
   "metadata": {},
   "source": [
    "For reading big csv files, one can use numpy as well as something called \"pandas\". We suggest to read pandas for CSV file reading and use that"
   ]
  },
  {
   "cell_type": "code",
   "execution_count": 14,
   "metadata": {},
   "outputs": [],
   "source": [
    " import numpy as np\n",
    " import matplotlib.pyplot as plt\n",
    " import pandas as pd\n",
    " from astropy.constants import G, c\n",
    " from astropy.cosmology import Planck18 as cosmo\n",
    " import astropy.units as u\n",
    "import seaborn as sns\n"
   ]
  },
  {
   "cell_type": "markdown",
   "metadata": {},
   "source": [
    "\n",
    "Before we begin calculations, we define key physical constants used throughout:\n",
    "\n",
    "- $ H_0 $: Hubble constant, describes the expansion rate of the Universe.\n",
    "- $c$ : Speed of light.\n",
    "-  $G$: Gravitational constant.\n",
    "- $q_0$ : Deceleration parameter, used for approximate co-moving distance calculations.\n",
    "\n",
    "We will use **`astropy.constants`** to ensure unit consistency and precision."
   ]
  },
  {
   "cell_type": "code",
   "execution_count": 2,
   "metadata": {},
   "outputs": [],
   "source": [
    "# Constants:\n",
    "\n",
    "\n",
    "H_0 = 70 * u.km / u.s / u.Mpc      # Hubble constant (approximate Planck value)\n",
    "c = c.to(u.km / u.s)               # Speed of light in km/s\n",
    "G = G.to(u.Mpc * u.km**2 / u.s**2 / u.Msun)  # Gravitational constant in Mpc⋅(km/s)^2⋅M_sun⁻¹\n",
    "q0 = -0.534                        # Deceleration parameter (keep this value as per handout)\n"
   ]
  },
  {
   "cell_type": "markdown",
   "metadata": {},
   "source": [
    "Read the csv data into the python using the method below"
   ]
  },
  {
   "cell_type": "code",
   "execution_count": 9,
   "metadata": {},
   "outputs": [],
   "source": [
    "df = pd.read_csv(r\"C:\\Users\\rpj20\\jupyter baba\\India Space Academy\\assignment 3\\Skyserver_SQL6_17_2025 4_14_23 AM.csv\") # Download the data as instructed in the pdf\n"
   ]
  },
  {
   "cell_type": "code",
   "execution_count": 10,
   "metadata": {},
   "outputs": [
    {
     "data": {
      "text/plain": [
       "Index(['objid', 'ra', 'dec', 'photoz', 'photozerr', 'specz', 'speczerr',\n",
       "       'proj_sep', 'umag', 'umagerr', 'gmag', 'gmagerr', 'rmag', 'rmagerr',\n",
       "       'obj_type'],\n",
       "      dtype='object')"
      ]
     },
     "execution_count": 10,
     "metadata": {},
     "output_type": "execute_result"
    }
   ],
   "source": [
    "df.columns"
   ]
  },
  {
   "cell_type": "markdown",
   "metadata": {},
   "source": [
    "### 📊 Calculating the Average Spectroscopic Redshift (`specz`) for Each Object\n",
    "\n",
    "When working with astronomical catalogs, an object (identified by a unique `objid`) might have multiple entries — for example, due to repeated observations. To reduce this to a single row per object, we aggregate the data using the following strategy:\n",
    "\n",
    "```python\n",
    "averaged_df = df.groupby('objid').agg({\n",
    "    'specz': 'mean',        # Take the mean of all spec-z values for that object\n",
    "    'ra': 'first',          # Use the first RA value (assumed constant for the object)\n",
    "    'dec': 'first',         # Use the first Dec value (same reason as above)\n",
    "    'proj_sep': 'first'     # Use the first projected separation value\n",
    "}).reset_index()\n"
   ]
  },
  {
   "cell_type": "code",
   "execution_count": 11,
   "metadata": {},
   "outputs": [
    {
     "data": {
      "text/plain": [
       "count    1.000000\n",
       "mean     0.081047\n",
       "std           NaN\n",
       "min      0.081047\n",
       "25%      0.081047\n",
       "50%      0.081047\n",
       "75%      0.081047\n",
       "max      0.081047\n",
       "Name: specz, dtype: float64"
      ]
     },
     "execution_count": 11,
     "metadata": {},
     "output_type": "execute_result"
    }
   ],
   "source": [
    "# Calculating the average specz for each id:\n",
    "averaged_df = df.groupby('objid').agg({'specz': 'mean','ra': 'first','dec': 'first','proj_sep': 'first',}).reset_index()\n",
    "averaged_df.describe()['specz']"
   ]
  },
  {
   "cell_type": "markdown",
   "metadata": {},
   "source": [
    "To create a cut in the redshift so that a cluster can be identified. We must use some logic. Most astronomers prefer anything beyond 3*sigma away from the mean to be not part of the same group. \n",
    "\n",
    "Find the mean, standard deviation and limits of the redshift from the data"
   ]
  },
  {
   "cell_type": "code",
   "execution_count": 12,
   "metadata": {},
   "outputs": [
    {
     "name": "stdout",
     "output_type": "stream",
     "text": [
      "Mean redshift (z): 0.08105\n",
      "Standard deviation (σ_z): 0.00950\n",
      "Redshift limits: 0.05255 to 0.10954\n"
     ]
    }
   ],
   "source": [
    "# Compute statistics\n",
    "z_mean = df['specz'].mean()\n",
    "z_std = df['specz'].std()\n",
    "\n",
    "# Define redshift limits (±3σ)\n",
    "z_lower = z_mean - 3 * z_std\n",
    "z_upper = z_mean + 3 * z_std\n",
    "\n",
    "# Display the results\n",
    "print(f\"Mean redshift (z): {z_mean:.5f}\")\n",
    "print(f\"Standard deviation (σ_z): {z_std:.5f}\")\n",
    "print(f\"Redshift limits: {z_lower:.5f} to {z_upper:.5f}\")\n"
   ]
  },
  {
   "cell_type": "markdown",
   "metadata": {},
   "source": [
    "You can also use boxplot to visualize the overall values of redshift "
   ]
  },
  {
   "cell_type": "code",
   "execution_count": 15,
   "metadata": {},
   "outputs": [
    {
     "data": {
      "image/png": "[encoded data removed]",
      "text/plain": [
       "<Figure size 640x480 with 1 Axes>"
      ]
     },
     "metadata": {},
     "output_type": "display_data"
    },
    {
     "data": {
      "image/png": "[encoded data removed]",
      "text/plain": [
       "<Figure size 640x480 with 1 Axes>"
      ]
     },
     "metadata": {},
     "output_type": "display_data"
    }
   ],
   "source": [
    "# Plot the dsitribution of redshift as histogram and a boxplot \n",
    "# Boxplot of redshifts\n",
    "plt.boxplot(df['specz'], vert=False, patch_artist=True, boxprops=dict(facecolor='lightblue'))\n",
    "plt.title('Boxplot of Redshifts')\n",
    "plt.xlabel('Spectroscopic Redshift')\n",
    "plt.grid(True)\n",
    "plt.show()\n",
    "\n",
    "\n",
    "# Histogram of redshifts\n",
    "plt.hist(df['specz'], bins=50, color='lightblue', edgecolor='black')\n",
    "plt.xlabel('Spectroscopic Redshift')\n",
    "plt.ylabel('Galaxy Count')\n",
    "plt.title('Histogram of Redshifts')\n",
    "plt.grid(True)\n",
    "plt.show()\n",
    "\n",
    "\n",
    "\n"
   ]
  },
  {
   "cell_type": "markdown",
   "metadata": {},
   "source": [
    "But the best plot would be a histogram to see where most of the objects downloaded lie in terms of redshift value"
   ]
  },
  {
   "cell_type": "code",
   "execution_count": 16,
   "metadata": {},
   "outputs": [
    {
     "data": {
      "image/png": "[encoded data removed]",
      "text/plain": [
       "<Figure size 640x480 with 1 Axes>"
      ]
     },
     "metadata": {},
     "output_type": "display_data"
    }
   ],
   "source": [
    "plt.hist(averaged_df['specz'],bins=90)\n",
    "plt.grid()\n",
    "plt.show()"
   ]
  },
  {
   "cell_type": "markdown",
   "metadata": {},
   "source": [
    "Filter your data based on the 3-sigma limit of redshift. You should remove all data points which are 3-sigma away from mean of redshift"
   ]
  },
  {
   "cell_type": "code",
   "execution_count": 17,
   "metadata": {},
   "outputs": [
    {
     "name": "stdout",
     "output_type": "stream",
     "text": [
      "Original count: 139\n",
      "Cluster members (within 3σ): 137\n"
     ]
    }
   ],
   "source": [
    "# Filtering the data based on specz values, used 3 sigma deviation from mean as upper limit.\n",
    "# Filter galaxies within 3-sigma redshift range\n",
    "cluster_df = df[(df['specz'] >= z_lower) & (df['specz'] <= z_upper)]\n",
    "\n",
    "# Print how many galaxies remain\n",
    "print(f\"Original count: {len(df)}\")\n",
    "print(f\"Cluster members (within 3σ): {len(cluster_df)}\")\n"
   ]
  },
  {
   "cell_type": "markdown",
   "metadata": {},
   "source": [
    "Use the relation between redshift and velocity to add a column named velocity in the data. This would tell the expansion velocity at that redshift "
   ]
  },
  {
   "cell_type": "markdown",
   "metadata": {},
   "source": [
    "For small redshifts, we can safely use the non-relativistic approximation:\n",
    "\n",
    "v= z.c\n",
    "\n"
   ]
  },
  {
   "cell_type": "code",
   "execution_count": 18,
   "metadata": {},
   "outputs": [
    {
     "name": "stderr",
     "output_type": "stream",
     "text": [
      "C:\\Users\\rpj20\\AppData\\Local\\Temp\\ipykernel_18980\\3120153869.py:9: SettingWithCopyWarning: \n",
      "A value is trying to be set on a copy of a slice from a DataFrame.\n",
      "Try using .loc[row_indexer,col_indexer] = value instead\n",
      "\n",
      "See the caveats in the documentation: https://pandas.pydata.org/pandas-docs/stable/user_guide/indexing.html#returning-a-view-versus-a-copy\n",
      "  cluster_df['velocity'] = cluster_df['specz'] * c_kms\n"
     ]
    },
    {
     "data": {
      "text/html": [
       "<div>\n",
       "<style scoped>\n",
       "    .dataframe tbody tr th:only-of-type {\n",
       "        vertical-align: middle;\n",
       "    }\n",
       "\n",
       "    .dataframe tbody tr th {\n",
       "        vertical-align: top;\n",
       "    }\n",
       "\n",
       "    .dataframe thead th {\n",
       "        text-align: right;\n",
       "    }\n",
       "</style>\n",
       "<table border=\"1\" class=\"dataframe\">\n",
       "  <thead>\n",
       "    <tr style=\"text-align: right;\">\n",
       "      <th></th>\n",
       "      <th>specz</th>\n",
       "      <th>velocity</th>\n",
       "    </tr>\n",
       "  </thead>\n",
       "  <tbody>\n",
       "    <tr>\n",
       "      <th>0</th>\n",
       "      <td>0.082447</td>\n",
       "      <td>24717.081720</td>\n",
       "    </tr>\n",
       "    <tr>\n",
       "      <th>1</th>\n",
       "      <td>0.082466</td>\n",
       "      <td>24722.783773</td>\n",
       "    </tr>\n",
       "    <tr>\n",
       "      <th>2</th>\n",
       "      <td>0.081218</td>\n",
       "      <td>24348.666769</td>\n",
       "    </tr>\n",
       "    <tr>\n",
       "      <th>3</th>\n",
       "      <td>0.079561</td>\n",
       "      <td>23851.808736</td>\n",
       "    </tr>\n",
       "    <tr>\n",
       "      <th>4</th>\n",
       "      <td>0.079568</td>\n",
       "      <td>23853.802356</td>\n",
       "    </tr>\n",
       "  </tbody>\n",
       "</table>\n",
       "</div>"
      ],
      "text/plain": [
       "      specz      velocity\n",
       "0  0.082447  24717.081720\n",
       "1  0.082466  24722.783773\n",
       "2  0.081218  24348.666769\n",
       "3  0.079561  23851.808736\n",
       "4  0.079568  23853.802356"
      ]
     },
     "execution_count": 18,
     "metadata": {},
     "output_type": "execute_result"
    }
   ],
   "source": [
    "# Make sure you have c already imported and converted\n",
    "from astropy.constants import c\n",
    "import astropy.units as u\n",
    "\n",
    "# Convert c to km/s if not already\n",
    "c_kms = c.to(u.km / u.s).value  # ≈ 299792.458 km/s\n",
    "\n",
    "# Add a new column for velocity in km/s\n",
    "cluster_df['velocity'] = cluster_df['specz'] * c_kms\n",
    "\n",
    "# Show the first few rows to confirm\n",
    "cluster_df[['specz', 'velocity']].head()\n"
   ]
  },
  {
   "cell_type": "code",
   "execution_count": 19,
   "metadata": {},
   "outputs": [
    {
     "data": {
      "image/png": "[encoded data removed]",
      "text/plain": [
       "<Figure size 800x500 with 1 Axes>"
      ]
     },
     "metadata": {},
     "output_type": "display_data"
    }
   ],
   "source": [
    "#plot the velocity column created as hist\n",
    "\n",
    "import matplotlib.pyplot as plt\n",
    "\n",
    "# Plot histogram of galaxy velocities\n",
    "plt.figure(figsize=(8, 5))\n",
    "plt.hist(cluster_df['velocity'], bins=30, color='salmon', edgecolor='black')\n",
    "plt.xlabel('Velocity (km/s)')\n",
    "plt.ylabel('Number of Galaxies')\n",
    "plt.title('Histogram of Galaxy Velocities (Cluster Members)')\n",
    "plt.grid(True)\n",
    "plt.show()\n"
   ]
  },
  {
   "cell_type": "markdown",
   "metadata": {},
   "source": [
    "use the dispersion equation to find something called velocity dispersion. You can even refer to wikipedia to know about the term [wiki link here](https://en.wikipedia.org/wiki/Velocity_dispersion#:~:text=In%20astronomy%2C%20the%20velocity%20dispersion,%2C%20galaxy%20cluster%2C%20or%20supercluster.)\n",
    "\n",
    "It is the velocity dispersion value which tells us, some galaxies might be part of even larger groups!!"
   ]
  },
  {
   "cell_type": "markdown",
   "metadata": {},
   "source": [
    "### Step 2: Calculate Mean Redshift of the Cluster\n",
    "We calculate the average redshift (`specz`) of galaxies that belong to a cluster. This gives us an estimate of the cluster's systemic redshift.\n",
    "\n",
    "`cluster_redshift = filtered_df['specz'].mean()`\n"
   ]
  },
  {
   "cell_type": "markdown",
   "metadata": {},
   "source": [
    "The velocity dispersion \\( v \\) of galaxies relative to the cluster mean redshift is computed using the relativistic Doppler formula:\n",
    "\n",
    "$$\n",
    "v = c \\cdot \\frac{(1 + z)^2 - (1 + z_{\\text{cluster}})^2}{(1 + z)^2 + (1 + z_{\\text{cluster}})^2}\n",
    "$$\n",
    "where:\n",
    "- \\( v \\) is the relative velocity (dispersion),\n",
    "- \\( z \\) is the redshift of the individual galaxy,\n",
    "- \\( $z_{\\text{cluster}}$ \\) is the mean cluster redshift,\n",
    "- \\( c \\) is the speed of light.\n"
   ]
  },
  {
   "cell_type": "code",
   "execution_count": 20,
   "metadata": {},
   "outputs": [
    {
     "name": "stdout",
     "output_type": "stream",
     "text": [
      "Cluster redshift (mean): 0.08003\n",
      "Velocity dispersion (relativistic): 1198.18 km/s\n"
     ]
    },
    {
     "name": "stderr",
     "output_type": "stream",
     "text": [
      "C:\\Users\\rpj20\\AppData\\Local\\Temp\\ipykernel_18980\\1176739431.py:16: SettingWithCopyWarning: \n",
      "A value is trying to be set on a copy of a slice from a DataFrame.\n",
      "Try using .loc[row_indexer,col_indexer] = value instead\n",
      "\n",
      "See the caveats in the documentation: https://pandas.pydata.org/pandas-docs/stable/user_guide/indexing.html#returning-a-view-versus-a-copy\n",
      "  cluster_df['v_rel'] = v_rel\n"
     ]
    }
   ],
   "source": [
    "import numpy as np\n",
    "from astropy.constants import c\n",
    "import astropy.units as u\n",
    "\n",
    "# Speed of light in km/s\n",
    "c_kms = c.to(u.km / u.s).value\n",
    "\n",
    "# Step 1: Calculate mean redshift of the cluster\n",
    "z_cluster = cluster_df['specz'].mean()\n",
    "\n",
    "# Step 2: Calculate relativistic velocities of each galaxy\n",
    "z = cluster_df['specz']\n",
    "v_rel = c_kms * ((1 + z)**2 - (1 + z_cluster)**2) / ((1 + z)**2 + (1 + z_cluster)**2)\n",
    "\n",
    "# Step 3: Add to DataFrame (optional)\n",
    "cluster_df['v_rel'] = v_rel\n",
    "\n",
    "# Step 4: Calculate velocity dispersion (standard deviation)\n",
    "v_dispersion = np.std(v_rel)\n",
    "\n",
    "# Print results\n",
    "print(f\"Cluster redshift (mean): {z_cluster:.5f}\")\n",
    "print(f\"Velocity dispersion (relativistic): {v_dispersion:.2f} km/s\")\n"
   ]
  },
  {
   "cell_type": "markdown",
   "metadata": {},
   "source": [
    "Pro tip: Check what the describe function of pandas does. Does it help to get quick look stats for your column of dispersion??"
   ]
  },
  {
   "cell_type": "code",
   "execution_count": 21,
   "metadata": {},
   "outputs": [
    {
     "data": {
      "text/plain": [
       "count     137.000000\n",
       "mean       -2.392825\n",
       "std      1202.576295\n",
       "min     -2803.471718\n",
       "25%      -763.070775\n",
       "50%       248.411265\n",
       "75%       767.132350\n",
       "max      4217.366753\n",
       "Name: v_rel, dtype: float64"
      ]
     },
     "execution_count": 21,
     "metadata": {},
     "output_type": "execute_result"
    }
   ],
   "source": [
    "cluster_df['v_rel'].describe()\n"
   ]
  },
  {
   "cell_type": "code",
   "execution_count": 24,
   "metadata": {},
   "outputs": [
    {
     "name": "stdout",
     "output_type": "stream",
     "text": [
      "The value of the cluster redshift = 0.0800\n",
      "The characteristic value of velocity dispersion of the cluster along the line of sight = 1198.1793 km/s.\n"
     ]
    }
   ],
   "source": [
    "print(f\"The value of the cluster redshift = {z_cluster:.4f}\")\n",
    "print(f\"The characteristic value of velocity dispersion of the cluster along the line of sight = {v_dispersion:.4f} km/s.\")\n"
   ]
  },
  {
   "cell_type": "code",
   "execution_count": null,
   "metadata": {},
   "outputs": [],
   "source": []
  },
  {
   "cell_type": "markdown",
   "metadata": {},
   "source": [
    "### Step 4: Visualizing Angular Separation of Galaxies\n",
    "We plot a histogram of the projected (angular) separation of galaxies from the cluster center. This helps us understand the spatial distribution of galaxies within the cluster field.\n",
    "\n",
    "- The x-axis represents the angular separation (in arcminutes or degrees, depending on units).\n",
    "- The y-axis shows the number of galaxies at each separation bin.\n",
    "\n"
   ]
  },
  {
   "cell_type": "code",
   "execution_count": 26,
   "metadata": {},
   "outputs": [
    {
     "data": {
      "image/png": "[encoded data removed]",
      "text/plain": [
       "<Figure size 800x500 with 1 Axes>"
      ]
     },
     "metadata": {},
     "output_type": "display_data"
    }
   ],
   "source": [
    "#Plot histogram for proj sep column\n",
    "\n",
    "# Histogram of projected angular separation\n",
    "plt.figure(figsize=(8, 5))\n",
    "plt.hist(cluster_df['proj_sep'], bins=30, color='mediumpurple', edgecolor='black')\n",
    "plt.xlabel('Projected Separation (arcminutes)')\n",
    "plt.ylabel('Number of Galaxies')\n",
    "plt.title('Histogram of Projected Angular Separation from Cluster Center')\n",
    "plt.grid(True)\n",
    "plt.show()\n"
   ]
  },
  {
   "cell_type": "markdown",
   "metadata": {},
   "source": [
    "### Determining size and mass of the cluster:"
   ]
  },
  {
   "cell_type": "markdown",
   "metadata": {},
   "source": [
    "### Step 5: Estimating Physical Diameter of the Cluster\n",
    "We now estimate the **physical diameter** of the galaxy cluster using cosmological parameters.\n",
    "\n",
    "- `r` is the **co-moving distance**, approximated using a Taylor expansion for low redshift:\n",
    "  $$\n",
    "  r = \\frac{cz}{H_0} \\left(1 - \\frac{z}{2}(1 + q_0)\\right)\n",
    "  $$\n",
    "  where $q_0$ is the deceleration parameter\n",
    "- `ra` is the **angular diameter distance**, given by:\n",
    "  $$\n",
    "  D_A = \\frac{r}{1 + z}\n",
    "  $$\n",
    "- Finally, we convert the observed angular diameter (in arcminutes) into physical size using:\n",
    "  $$\n",
    "  \\text{diameter (in Mpc)} = D_A \\cdot \\theta\n",
    "  $$\n",
    "  where $ \\theta $ is the angular size in radians, converted from arcminutes.\n",
    "\n",
    "> This gives us a rough estimate of the cluster's size in megaparsecs (Mpc), assuming a flat ΛCDM cosmology.\n"
   ]
  },
  {
   "cell_type": "code",
   "execution_count": 27,
   "metadata": {},
   "outputs": [
    {
     "name": "stdout",
     "output_type": "stream",
     "text": [
      "Estimated physical diameter of cluster: 0.892 Mpc\n"
     ]
    }
   ],
   "source": [
    "import numpy as np\n",
    "\n",
    "# Step 1: Comoving distance r (in Mpc)\n",
    "r = (c_kms * z_cluster / H_0.value) * (1 - (z_cluster / 2) * (1 + q0))\n",
    "\n",
    "# Step 2: Angular diameter distance D_A (in Mpc)\n",
    "D_A = r / (1 + z_cluster)\n",
    "\n",
    "# Step 3: Maximum projected separation in arcminutes\n",
    "theta_arcmin = cluster_df['proj_sep'].max()  # e.g., 9.8 arcmin\n",
    "theta_rad = np.deg2rad(theta_arcmin / 60)    # convert to radians\n",
    "\n",
    "# Step 4: Estimate physical diameter (in Mpc)\n",
    "diameter = D_A * theta_rad\n",
    "\n",
    "# Result\n",
    "print(f\"Estimated physical diameter of cluster: {diameter:.3f} Mpc\")\n"
   ]
  },
  {
   "cell_type": "markdown",
   "metadata": {},
   "source": [
    "### Step 6: Calculating the Dynamical Mass of the Cluster\n",
    "We now estimate the **dynamical mass** of the galaxy cluster using the virial theorem:\n",
    "\n",
    "$$\n",
    "M_{\\text{dyn}} = \\frac{3 \\sigma^2 R}{G}\n",
    "$$\n",
    "\n",
    "Where:\n",
    "- $ \\sigma $ is the **velocity dispersion** in m/s (`disp * 1000`),\n",
    "- $ R $ is the **cluster radius** in meters (half the physical diameter converted to meters),\n",
    "- $ G $ is the **gravitational constant** in SI units,\n",
    "- The factor of 3 assumes an isotropic velocity distribution (common in virial estimates).\n",
    "\n",
    "We convert the final result into **solar masses** by dividing by $ 2 \\times 10^{30} \\, \\text{kg} $.\n",
    "\n",
    "> This mass estimate assumes the cluster is in dynamical equilibrium and bound by gravity.\n"
   ]
  },
  {
   "cell_type": "code",
   "execution_count": 29,
   "metadata": {},
   "outputs": [
    {
     "name": "stdout",
     "output_type": "stream",
     "text": [
      "Dynamical Mass of the cluster is 4.44e+14 solar masses\n"
     ]
    }
   ],
   "source": [
    "\n",
    "# Convert velocity dispersion to m/s\n",
    "sigma = v_dispersion * 1000  # km/s → m/s\n",
    "\n",
    "# Convert radius to meters (diameter/2 → Mpc → m)\n",
    "R = (diameter / 2) * u.Mpc.to(u.m)  # Mpc → meters\n",
    "\n",
    "# Gravitational constant in SI (m^3 / (kg s^2))\n",
    "G_si = G.value\n",
    "\n",
    "# Dynamical mass in kg\n",
    "M_dyn_kg = (3 * sigma**2 * R) / G_si\n",
    "\n",
    "# Convert to solar masses\n",
    "M_dyn = M_dyn_kg / (2e30)\n",
    "\n",
    "# Print result\n",
    "print(f\"Dynamical Mass of the cluster is {M_dyn:.2e} solar masses\")\n"
   ]
  },
  {
   "cell_type": "markdown",
   "metadata": {},
   "source": [
    "### Solutions to Problems ###"
   ]
  },
  {
   "cell_type": "markdown",
   "metadata": {},
   "source": [
    "Q1: What is the cluster redshift?"
   ]
  },
  {
   "cell_type": "code",
   "execution_count": 30,
   "metadata": {},
   "outputs": [
    {
     "name": "stdout",
     "output_type": "stream",
     "text": [
      "Cluster redshift = 0.0800\n"
     ]
    }
   ],
   "source": [
    "print(f\"Cluster redshift = {z_cluster:.4f}\")\n"
   ]
  },
  {
   "cell_type": "markdown",
   "metadata": {},
   "source": [
    "What is the characteristic velocity dispersion (km/s)?"
   ]
  },
  {
   "cell_type": "code",
   "execution_count": 31,
   "metadata": {},
   "outputs": [
    {
     "name": "stdout",
     "output_type": "stream",
     "text": [
      "Velocity dispersion = 1198.18 km/s\n"
     ]
    }
   ],
   "source": [
    "print(f\"Velocity dispersion = {v_dispersion:.2f} km/s\")\n"
   ]
  },
  {
   "cell_type": "markdown",
   "metadata": {},
   "source": [
    "What is the characteristic size of the cluster (Mpc)?"
   ]
  },
  {
   "cell_type": "code",
   "execution_count": 32,
   "metadata": {},
   "outputs": [
    {
     "name": "stdout",
     "output_type": "stream",
     "text": [
      "Estimated physical diameter of cluster: 0.892 Mpc\n"
     ]
    }
   ],
   "source": [
    "print(f\"Estimated physical diameter of cluster: {diameter:.3f} Mpc\")\n"
   ]
  },
  {
   "cell_type": "markdown",
   "metadata": {},
   "source": [
    " What is the dynamical mass of the cluster (in solar masses)?"
   ]
  },
  {
   "cell_type": "code",
   "execution_count": 33,
   "metadata": {},
   "outputs": [
    {
     "name": "stdout",
     "output_type": "stream",
     "text": [
      "Dynamical Mass of the cluster is 4.44e+14 solar masses\n"
     ]
    }
   ],
   "source": [
    "print(f\"Dynamical Mass of the cluster is {M_dyn:.2e} solar masses\")\n"
   ]
  },
  {
   "cell_type": "markdown",
   "metadata": {},
   "source": [
    "Is the dynamical mass consistent with luminous mass?"
   ]
  },
  {
   "cell_type": "markdown",
   "metadata": {},
   "source": [
    "The dynamical mass is on the order of ~10¹⁴ to 10¹⁵ solar masses, which is **much higher than what would be expected from visible galaxies alone**. \r\n",
    "\r\n",
    "This discrepancy strongly supports the presence of **dark matter**, as luminous matter (stars, gas) typically accounts for only ~10–20% of the total mass in clusters.\r\n",
    "\r\n",
    "Hence, the dynamical mass is **not consistent** with the luminous mass — as expected from modern astrophysical theory.\r\n"
   ]
  },
  {
   "cell_type": "code",
   "execution_count": null,
   "metadata": {},
   "outputs": [],
   "source": []
  }
 ],
 "metadata": {
  "kernelspec": {
   "display_name": "Python 3 (ipykernel)",
   "language": "python",
   "name": "python3"
  },
  "language_info": {
   "codemirror_mode": {
    "name": "ipython",
    "version": 3
   },
   "file_extension": ".py",
   "mimetype": "text/x-python",
   "name": "python",
   "nbconvert_exporter": "python",
   "pygments_lexer": "ipython3",
   "version": "3.10.6"
  }
 },
 "nbformat": 4,
 "nbformat_minor": 4
}
